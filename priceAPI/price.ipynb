{
 "cells": [
  {
   "cell_type": "code",
   "execution_count": null,
   "metadata": {},
   "outputs": [],
   "source": [
    "import requests\n",
    "import pandas as pd\n",
    "from key import key_api  # pega a chave da api\n",
    "from io  import StringIO # para fingir que uma string é um arquivo\n",
    " \n",
    "\n",
    "#tickets = ['BBAS3','TAEE4','KLBN4','TRPL4','SANB4']\n",
    "tickets = ['BBAS3','TAEE4']\n",
    "compilada = pd.DataFrame()\n",
    "\n",
    "for ticket in tickets:\n",
    "  url = f'https://www.alphavantage.co/query?function=GLOBAL_QUOTE&symbol={ticket}.SAO&apikey={key_api}&datatype=csv'\n",
    "  r = requests.get(url)\n",
    "  tabela = pd.read_csv(StringIO(r.text))\n",
    "  lista_tabelas = [compilada,tabela]\n",
    "  compilada = pd.concat(lista_tabelas)\n",
    "\n",
    "display(compilada) "
   ]
  },
  {
   "cell_type": "code",
   "execution_count": null,
   "metadata": {},
   "outputs": [],
   "source": [
    "import requests\n",
    "\n",
    "# replace the \"demo\" apikey below with your own key from https://www.alphavantage.co/support/#api-key\n",
    "url = 'https://www.alphavantage.co/query?function=GLOBAL_QUOTE&symbol=IBM&apikey=demo'\n",
    "r = requests.get(url)\n",
    "data = r.json()\n",
    "\n",
    "print(data)"
   ]
  },
  {
   "cell_type": "code",
   "execution_count": null,
   "metadata": {},
   "outputs": [],
   "source": [
    "pip install requests, pandas, io\n"
   ]
  },
  {
   "cell_type": "code",
   "execution_count": null,
   "metadata": {},
   "outputs": [
    {
     "ename": "",
     "evalue": "",
     "output_type": "error",
     "traceback": [
      "\u001b[1;31mRunning cells with '/bin/python3' requires the ipykernel package.\n",
      "\u001b[1;31mRun the following command to install 'ipykernel' into the Python environment. \n",
      "\u001b[1;31mCommand: '/bin/python3 -m pip install ipykernel -U --user --force-reinstall'"
     ]
    }
   ],
   "source": [
    "print(\"teste\")"
   ]
  }
 ],
 "metadata": {
  "kernelspec": {
   "display_name": "Python 3",
   "language": "python",
   "name": "python3"
  },
  "language_info": {
   "name": "python",
   "version": "3.10.6"
  },
  "orig_nbformat": 4
 },
 "nbformat": 4,
 "nbformat_minor": 2
}
